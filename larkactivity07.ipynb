{
 "cells": [
  {
   "cell_type": "code",
   "execution_count": 1,
   "id": "dfe6d02b",
   "metadata": {},
   "outputs": [],
   "source": [
    "import scipy.stats as stats\n",
    "import pandas as pd \n",
    "import numpy as np"
   ]
  },
  {
   "cell_type": "code",
   "execution_count": 10,
   "id": "992d3085",
   "metadata": {},
   "outputs": [],
   "source": [
    "df= pd.read_csv('D:\\\\dsa\\\\dataweek7.csv')"
   ]
  },
  {
   "cell_type": "code",
   "execution_count": 11,
   "id": "bd761f1d",
   "metadata": {},
   "outputs": [
    {
     "data": {
      "text/html": [
       "<div>\n",
       "<style scoped>\n",
       "    .dataframe tbody tr th:only-of-type {\n",
       "        vertical-align: middle;\n",
       "    }\n",
       "\n",
       "    .dataframe tbody tr th {\n",
       "        vertical-align: top;\n",
       "    }\n",
       "\n",
       "    .dataframe thead th {\n",
       "        text-align: right;\n",
       "    }\n",
       "</style>\n",
       "<table border=\"1\" class=\"dataframe\">\n",
       "  <thead>\n",
       "    <tr style=\"text-align: right;\">\n",
       "      <th></th>\n",
       "      <th>Gender</th>\n",
       "      <th>Test preparation</th>\n",
       "      <th>Total Marks</th>\n",
       "    </tr>\n",
       "  </thead>\n",
       "  <tbody>\n",
       "    <tr>\n",
       "      <th>0</th>\n",
       "      <td>male</td>\n",
       "      <td>none</td>\n",
       "      <td>14</td>\n",
       "    </tr>\n",
       "    <tr>\n",
       "      <th>1</th>\n",
       "      <td>female</td>\n",
       "      <td>none</td>\n",
       "      <td>28</td>\n",
       "    </tr>\n",
       "    <tr>\n",
       "      <th>2</th>\n",
       "      <td>female</td>\n",
       "      <td>none</td>\n",
       "      <td>18</td>\n",
       "    </tr>\n",
       "    <tr>\n",
       "      <th>3</th>\n",
       "      <td>female</td>\n",
       "      <td>none</td>\n",
       "      <td>48</td>\n",
       "    </tr>\n",
       "    <tr>\n",
       "      <th>4</th>\n",
       "      <td>female</td>\n",
       "      <td>none</td>\n",
       "      <td>21</td>\n",
       "    </tr>\n",
       "  </tbody>\n",
       "</table>\n",
       "</div>"
      ],
      "text/plain": [
       "   Gender Test preparation  Total Marks\n",
       "0    male             none           14\n",
       "1  female             none           28\n",
       "2  female             none           18\n",
       "3  female             none           48\n",
       "4  female             none           21"
      ]
     },
     "execution_count": 11,
     "metadata": {},
     "output_type": "execute_result"
    }
   ],
   "source": [
    "df.head()"
   ]
  },
  {
   "cell_type": "code",
   "execution_count": 12,
   "id": "1f461fe1",
   "metadata": {},
   "outputs": [
    {
     "name": "stdout",
     "output_type": "stream",
     "text": [
      "<class 'pandas.core.frame.DataFrame'>\n",
      "RangeIndex: 28 entries, 0 to 27\n",
      "Data columns (total 3 columns):\n",
      " #   Column            Non-Null Count  Dtype \n",
      "---  ------            --------------  ----- \n",
      " 0   Gender            28 non-null     object\n",
      " 1   Test preparation  28 non-null     object\n",
      " 2   Total Marks       28 non-null     int64 \n",
      "dtypes: int64(1), object(2)\n",
      "memory usage: 800.0+ bytes\n"
     ]
    }
   ],
   "source": [
    "df.info()"
   ]
  },
  {
   "cell_type": "code",
   "execution_count": 13,
   "id": "74073f80",
   "metadata": {},
   "outputs": [],
   "source": [
    "# 1. Carry out descriptive analytics on the dataset"
   ]
  },
  {
   "cell_type": "code",
   "execution_count": 14,
   "id": "b7e2a2f1",
   "metadata": {},
   "outputs": [
    {
     "data": {
      "text/html": [
       "<div>\n",
       "<style scoped>\n",
       "    .dataframe tbody tr th:only-of-type {\n",
       "        vertical-align: middle;\n",
       "    }\n",
       "\n",
       "    .dataframe tbody tr th {\n",
       "        vertical-align: top;\n",
       "    }\n",
       "\n",
       "    .dataframe thead th {\n",
       "        text-align: right;\n",
       "    }\n",
       "</style>\n",
       "<table border=\"1\" class=\"dataframe\">\n",
       "  <thead>\n",
       "    <tr style=\"text-align: right;\">\n",
       "      <th></th>\n",
       "      <th>count</th>\n",
       "      <th>mean</th>\n",
       "      <th>std</th>\n",
       "      <th>min</th>\n",
       "      <th>25%</th>\n",
       "      <th>50%</th>\n",
       "      <th>75%</th>\n",
       "      <th>max</th>\n",
       "    </tr>\n",
       "  </thead>\n",
       "  <tbody>\n",
       "    <tr>\n",
       "      <th>Total Marks</th>\n",
       "      <td>28.0</td>\n",
       "      <td>32.321429</td>\n",
       "      <td>12.45452</td>\n",
       "      <td>12.0</td>\n",
       "      <td>22.5</td>\n",
       "      <td>33.0</td>\n",
       "      <td>43.25</td>\n",
       "      <td>50.0</td>\n",
       "    </tr>\n",
       "  </tbody>\n",
       "</table>\n",
       "</div>"
      ],
      "text/plain": [
       "             count       mean       std   min   25%   50%    75%   max\n",
       "Total Marks   28.0  32.321429  12.45452  12.0  22.5  33.0  43.25  50.0"
      ]
     },
     "execution_count": 14,
     "metadata": {},
     "output_type": "execute_result"
    }
   ],
   "source": [
    "df.describe().T"
   ]
  },
  {
   "cell_type": "code",
   "execution_count": 15,
   "id": "bb1c5421",
   "metadata": {},
   "outputs": [],
   "source": [
    "#  2. Check whether female and male students scored the same marks"
   ]
  },
  {
   "cell_type": "code",
   "execution_count": 16,
   "id": "d04ea0ac",
   "metadata": {},
   "outputs": [],
   "source": [
    "  ##null hypothesis is female and male students scored different marks\n",
    " ##alternate hypothesis is femle and male students scored the same marks\n",
    " ##alpha is 0.05"
   ]
  },
  {
   "cell_type": "code",
   "execution_count": 17,
   "id": "bb0a766c",
   "metadata": {},
   "outputs": [],
   "source": [
    "female=df[df.Gender=='female']\n",
    "male=df[df.Gender=='male']"
   ]
  },
  {
   "cell_type": "code",
   "execution_count": 18,
   "id": "f8dff1c5",
   "metadata": {},
   "outputs": [],
   "source": [
    "t,p=stats.ttest_ind(female['Total Marks'],male['Total Marks'])"
   ]
  },
  {
   "cell_type": "code",
   "execution_count": 19,
   "id": "90077d06",
   "metadata": {},
   "outputs": [
    {
     "name": "stdout",
     "output_type": "stream",
     "text": [
      "p value is  0.4937822317960763\n"
     ]
    }
   ],
   "source": [
    "print('p value is ',p)"
   ]
  },
  {
   "cell_type": "code",
   "execution_count": 20,
   "id": "0192f2d2",
   "metadata": {},
   "outputs": [
    {
     "name": "stdout",
     "output_type": "stream",
     "text": [
      "fail to reject null hypothesis\n",
      " that is female and male students scored the different marks\n"
     ]
    }
   ],
   "source": [
    "if p<0.05:\n",
    "    print('reject null hypothesis\\n','that is female and male students scored the same marks')\n",
    "else:\n",
    "    print('fail to reject null hypothesis\\n','that is female and male students scored the different marks')"
   ]
  },
  {
   "cell_type": "code",
   "execution_count": 21,
   "id": "841d93d1",
   "metadata": {},
   "outputs": [],
   "source": [
    "# 3. Whether test preparation helps the students?"
   ]
  },
  {
   "cell_type": "code",
   "execution_count": 22,
   "id": "5b0bd391",
   "metadata": {},
   "outputs": [],
   "source": [
    "##null hypothesis is test preparation not helps the students\n",
    "##alternate hypothesis is test preparation helps the students\n",
    "##alpha is 0.05"
   ]
  },
  {
   "cell_type": "code",
   "execution_count": 23,
   "id": "8807c9cb",
   "metadata": {},
   "outputs": [],
   "source": [
    "t_none=df[df['Test preparation']=='none']\n",
    "t_completed=df[df['Test preparation']=='completed']"
   ]
  },
  {
   "cell_type": "code",
   "execution_count": 24,
   "id": "b1b48a66",
   "metadata": {},
   "outputs": [],
   "source": [
    "t_val,p_val=stats.ttest_ind(t_none['Total Marks'],t_completed['Total Marks'])"
   ]
  },
  {
   "cell_type": "code",
   "execution_count": 25,
   "id": "76edfae2",
   "metadata": {},
   "outputs": [
    {
     "name": "stdout",
     "output_type": "stream",
     "text": [
      "p value is 0.0012671292457320106\n"
     ]
    }
   ],
   "source": [
    "print('p value is',p_val)"
   ]
  },
  {
   "cell_type": "code",
   "execution_count": 26,
   "id": "01026ae9",
   "metadata": {},
   "outputs": [
    {
     "name": "stdout",
     "output_type": "stream",
     "text": [
      "reject null hypothesis\n",
      " That is test preparation helps the students\n"
     ]
    }
   ],
   "source": [
    "if p_val<0.05:\n",
    "    print('reject null hypothesis\\n','That is test preparation helps the students')\n",
    "else:\n",
    "    print('fail to reject null hypothesis\\n','that is test preparation not helps the students')"
   ]
  },
  {
   "cell_type": "code",
   "execution_count": null,
   "id": "0feda135",
   "metadata": {},
   "outputs": [],
   "source": []
  }
 ],
 "metadata": {
  "kernelspec": {
   "display_name": "Python 3 (ipykernel)",
   "language": "python",
   "name": "python3"
  },
  "language_info": {
   "codemirror_mode": {
    "name": "ipython",
    "version": 3
   },
   "file_extension": ".py",
   "mimetype": "text/x-python",
   "name": "python",
   "nbconvert_exporter": "python",
   "pygments_lexer": "ipython3",
   "version": "3.9.7"
  }
 },
 "nbformat": 4,
 "nbformat_minor": 5
}
