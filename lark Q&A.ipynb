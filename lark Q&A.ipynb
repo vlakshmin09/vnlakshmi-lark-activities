{
 "cells": [
  {
   "cell_type": "markdown",
   "metadata": {},
   "source": [
    "## 1. Complete the following code to find the area of an equilateral triangle. Output should be as displayed"
   ]
  },
  {
   "cell_type": "code",
   "execution_count": 2,
   "metadata": {},
   "outputs": [
    {
     "name": "stdout",
     "output_type": "stream",
     "text": [
      "Enter the side of the equilateral triangle: 5\n",
      "area=  10.825317547305483\n"
     ]
    }
   ],
   "source": [
    "import math\n",
    "side = float(input(\"Enter the side of the equilateral triangle: \"))\n",
    "area = ((math.sqrt(3))/4)*pow(side,2)\n",
    "print(\"area= \",area)\n",
    "\n",
    "\n"
   ]
  },
  {
   "cell_type": "markdown",
   "metadata": {},
   "source": [
    "## 2. Write a program to count the number of each characters in a string"
   ]
  },
  {
   "cell_type": "code",
   "execution_count": 4,
   "metadata": {},
   "outputs": [
    {
     "name": "stdout",
     "output_type": "stream",
     "text": [
      "enter the string: hi all\n",
      "Counter({'l': 2, 'h': 1, 'i': 1, ' ': 1, 'a': 1})\n"
     ]
    }
   ],
   "source": [
    "from collections import Counter\n",
    "string=input(\"enter the string: \")\n",
    "n=Counter(string)\n",
    "print(n)"
   ]
  },
  {
   "cell_type": "markdown",
   "metadata": {},
   "source": [
    "## 3. Write a program to find the area and perimeter of a rectangle using functions"
   ]
  },
  {
   "cell_type": "code",
   "execution_count": 5,
   "metadata": {},
   "outputs": [
    {
     "name": "stdout",
     "output_type": "stream",
     "text": [
      "Enter the length of rectangle: 9\n",
      "Enter the breadth of rectangle: 5\n",
      "Area of the rectangle is  45.0\n",
      "Perimeter of the rectangle is  28.0\n"
     ]
    }
   ],
   "source": [
    "l = float(input(\"Enter the length of rectangle: \"))\n",
    "b = float(input(\"Enter the breadth of rectangle: \"))\n",
    "def area(l,b):\n",
    "    area = l*b\n",
    "    return area\n",
    "def perimeter(l,b):\n",
    "    perimeter = 2*(l+b)\n",
    "    return perimeter\n",
    "print(\"Area of the rectangle is \" ,area(l,b))\n",
    "print(\"Perimeter of the rectangle is \",perimeter(l,b))"
   ]
  },
  {
   "cell_type": "markdown",
   "metadata": {},
   "source": [
    "## 4. Write a program to print the fibonacci series till a specified number"
   ]
  },
  {
   "cell_type": "code",
   "execution_count": 6,
   "metadata": {},
   "outputs": [
    {
     "name": "stdout",
     "output_type": "stream",
     "text": [
      "enter the value of 'n': 9\n",
      "fibonacci series:   0  1  1  2  3  5  8  13  21  "
     ]
    }
   ],
   "source": [
    "n=int(input(\"enter the value of 'n': \"))\n",
    "a=0\n",
    "b=1\n",
    "sum=0\n",
    "count=1\n",
    "print(\"fibonacci series: \",end=\"  \")\n",
    "while(count<=n):\n",
    "    print(sum,end=\"  \")\n",
    "    count+=1\n",
    "    a=b\n",
    "    b=sum\n",
    "    sum=a+b"
   ]
  },
  {
   "cell_type": "markdown",
   "metadata": {},
   "source": [
    "## 5. Complete the following code to find the minimum of 3 number using conditional statements. Output should be as displayed"
   ]
  },
  {
   "cell_type": "code",
   "execution_count": 8,
   "metadata": {},
   "outputs": [
    {
     "name": "stdout",
     "output_type": "stream",
     "text": [
      "Enter three numbers followed by  : -19 -100 -9\n",
      "First number : -19\n",
      "Second number : -100\n",
      "Third number : -9\n",
      "-100  is smallest\n"
     ]
    }
   ],
   "source": [
    "a,b,c = input(\"Enter three numbers followed by  : \").split()\n",
    "\n",
    "print(\"First number :\",a)\n",
    "print(\"Second number :\",b)\n",
    "print(\"Third number :\",c)\n",
    "if(a==b==c):\n",
    "    print(\"Entered numbers are equal!!!\")\n",
    "elif(a<b) and (a<c):\n",
    "    print(a,\" is smallest\")\n",
    "elif(b<a) and (b<c):\n",
    "    print(b,\" is smallest\")\n",
    "else:\n",
    "    print(c,\" is smallest\")"
   ]
  },
  {
   "cell_type": "markdown",
   "metadata": {},
   "source": [
    "## 6. Write a program to print star pyramind. The number of rows should be taken as input from the user"
   ]
  },
  {
   "cell_type": "code",
   "execution_count": 9,
   "metadata": {},
   "outputs": [
    {
     "name": "stdout",
     "output_type": "stream",
     "text": [
      "Enter numer of rows: 7\n",
      "             \n",
      "          *  \n",
      "        * * *  \n",
      "      * * * * *  \n",
      "    * * * * * * *  \n",
      "  * * * * * * * * *  \n",
      "* * * * * * * * * * *  \n"
     ]
    }
   ],
   "source": [
    "n=int(input(\"Enter numer of rows: \"))\n",
    "for i in range(n):\n",
    "    for j in range(n-i-1):\n",
    "        print(\" \",end=\" \")\n",
    "    for j in range(2*i-1):\n",
    "        print(\"*\",end=\" \")\n",
    "    print(\" \")    \n",
    "    "
   ]
  },
  {
   "cell_type": "markdown",
   "metadata": {},
   "source": [
    "## 7. Complete the following code to convert hour into seconds. Output should be as displayed"
   ]
  },
  {
   "cell_type": "code",
   "execution_count": 10,
   "metadata": {},
   "outputs": [
    {
     "name": "stdout",
     "output_type": "stream",
     "text": [
      "Enter the time in hourd :24\n",
      "24  Hour is equal to 86400  Seconds\n"
     ]
    }
   ],
   "source": [
    "def to_seconds(t):\n",
    "    t=t*60*60\n",
    "    return t\n",
    "time_in_hours = int(input(\"Enter the time in hourd :\"))\n",
    "print(time_in_hours ,\" Hour is equal to\" ,to_seconds(time_in_hours) ,\" Seconds\")"
   ]
  },
  {
   "cell_type": "markdown",
   "metadata": {},
   "source": [
    "## 8. Write a program to print multiplication table as below"
   ]
  },
  {
   "cell_type": "code",
   "execution_count": 13,
   "metadata": {},
   "outputs": [
    {
     "name": "stdout",
     "output_type": "stream",
     "text": [
      "enter the numer for multiplication67\n",
      "1 * 67 = 67\n",
      "2 * 67 = 134\n",
      "3 * 67 = 201\n",
      "4 * 67 = 268\n",
      "5 * 67 = 335\n",
      "6 * 67 = 402\n",
      "7 * 67 = 469\n",
      "8 * 67 = 536\n",
      "9 * 67 = 603\n",
      "10 * 67 = 670\n"
     ]
    }
   ],
   "source": [
    "\n",
    "#multiplication tale\n",
    "number=int(input('enter the numer for multiplication'))\n",
    "for i in range(1,11):\n",
    "    print(i,'*',number,'=',i*number)"
   ]
  },
  {
   "cell_type": "markdown",
   "metadata": {},
   "source": [
    "## 9. Write a program to take your 5 favorite food as list and print each as 'I like Biriyani'"
   ]
  },
  {
   "cell_type": "code",
   "execution_count": 14,
   "metadata": {},
   "outputs": [
    {
     "name": "stdout",
     "output_type": "stream",
     "text": [
      "enter five favorite food iteams : chocolate\n",
      "enter five favorite food iteams : ice cream\n",
      "enter five favorite food iteams : biriyani\n",
      "enter five favorite food iteams : juice\n",
      "enter five favorite food iteams : pizza\n",
      "i like  chocolate\n",
      "i like  ice cream\n",
      "i like  biriyani\n",
      "i like  juice\n",
      "i like  pizza\n"
     ]
    }
   ],
   "source": [
    "food_item=[]\n",
    "for i in range(0,5):\n",
    "     food=str(input(\"enter five favorite food iteams : \"))\n",
    "     food_item.append(food)\n",
    "for x in food_item:\n",
    "     print(\"i like \",x)"
   ]
  },
  {
   "cell_type": "code",
   "execution_count": null,
   "metadata": {},
   "outputs": [],
   "source": []
  }
 ],
 "metadata": {
  "kernelspec": {
   "display_name": "Python 3 (ipykernel)",
   "language": "python",
   "name": "python3"
  },
  "language_info": {
   "codemirror_mode": {
    "name": "ipython",
    "version": 3
   },
   "file_extension": ".py",
   "mimetype": "text/x-python",
   "name": "python",
   "nbconvert_exporter": "python",
   "pygments_lexer": "ipython3",
   "version": "3.9.7"
  }
 },
 "nbformat": 4,
 "nbformat_minor": 4
}
