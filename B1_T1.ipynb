{
 "cells": [
  {
   "cell_type": "code",
   "execution_count": 1,
   "id": "ca0a60b3",
   "metadata": {},
   "outputs": [],
   "source": [
    "#importing libraries\n",
    "import pandas as pd \n",
    "import numpy as np\n",
    "import seaborn as sns\n",
    "import matplotlib.pyplot as plt"
   ]
  },
  {
   "cell_type": "code",
   "execution_count": 3,
   "id": "9d14299d",
   "metadata": {},
   "outputs": [
    {
     "data": {
      "text/html": [
       "<div>\n",
       "<style scoped>\n",
       "    .dataframe tbody tr th:only-of-type {\n",
       "        vertical-align: middle;\n",
       "    }\n",
       "\n",
       "    .dataframe tbody tr th {\n",
       "        vertical-align: top;\n",
       "    }\n",
       "\n",
       "    .dataframe thead th {\n",
       "        text-align: right;\n",
       "    }\n",
       "</style>\n",
       "<table border=\"1\" class=\"dataframe\">\n",
       "  <thead>\n",
       "    <tr style=\"text-align: right;\">\n",
       "      <th></th>\n",
       "      <th>id</th>\n",
       "      <th>satisfaction_v2</th>\n",
       "      <th>Gender</th>\n",
       "      <th>Customer Type</th>\n",
       "      <th>Age</th>\n",
       "      <th>Type of Travel</th>\n",
       "      <th>Class</th>\n",
       "      <th>Flight Distance</th>\n",
       "      <th>Seat comfort</th>\n",
       "      <th>Departure/Arrival time convenient</th>\n",
       "      <th>...</th>\n",
       "      <th>Online support</th>\n",
       "      <th>Ease of Online booking</th>\n",
       "      <th>On-board service</th>\n",
       "      <th>Leg room service</th>\n",
       "      <th>Baggage handling</th>\n",
       "      <th>Checkin service</th>\n",
       "      <th>Cleanliness</th>\n",
       "      <th>Online boarding</th>\n",
       "      <th>Departure Delay in Minutes</th>\n",
       "      <th>Arrival Delay in Minutes</th>\n",
       "    </tr>\n",
       "  </thead>\n",
       "  <tbody>\n",
       "    <tr>\n",
       "      <th>0</th>\n",
       "      <td>11112</td>\n",
       "      <td>satisfied</td>\n",
       "      <td>Female</td>\n",
       "      <td>Loyal Customer</td>\n",
       "      <td>65</td>\n",
       "      <td>Personal Travel</td>\n",
       "      <td>Eco</td>\n",
       "      <td>265</td>\n",
       "      <td>0</td>\n",
       "      <td>0</td>\n",
       "      <td>...</td>\n",
       "      <td>2</td>\n",
       "      <td>3</td>\n",
       "      <td>3</td>\n",
       "      <td>0</td>\n",
       "      <td>3</td>\n",
       "      <td>5</td>\n",
       "      <td>3</td>\n",
       "      <td>2</td>\n",
       "      <td>0</td>\n",
       "      <td>0.0</td>\n",
       "    </tr>\n",
       "    <tr>\n",
       "      <th>1</th>\n",
       "      <td>110278</td>\n",
       "      <td>satisfied</td>\n",
       "      <td>Male</td>\n",
       "      <td>Loyal Customer</td>\n",
       "      <td>47</td>\n",
       "      <td>Personal Travel</td>\n",
       "      <td>Business</td>\n",
       "      <td>2464</td>\n",
       "      <td>0</td>\n",
       "      <td>0</td>\n",
       "      <td>...</td>\n",
       "      <td>2</td>\n",
       "      <td>3</td>\n",
       "      <td>4</td>\n",
       "      <td>4</td>\n",
       "      <td>4</td>\n",
       "      <td>2</td>\n",
       "      <td>3</td>\n",
       "      <td>2</td>\n",
       "      <td>310</td>\n",
       "      <td>305.0</td>\n",
       "    </tr>\n",
       "    <tr>\n",
       "      <th>2</th>\n",
       "      <td>103199</td>\n",
       "      <td>satisfied</td>\n",
       "      <td>Female</td>\n",
       "      <td>Loyal Customer</td>\n",
       "      <td>15</td>\n",
       "      <td>Personal Travel</td>\n",
       "      <td>Eco</td>\n",
       "      <td>2138</td>\n",
       "      <td>0</td>\n",
       "      <td>0</td>\n",
       "      <td>...</td>\n",
       "      <td>2</td>\n",
       "      <td>2</td>\n",
       "      <td>3</td>\n",
       "      <td>3</td>\n",
       "      <td>4</td>\n",
       "      <td>4</td>\n",
       "      <td>4</td>\n",
       "      <td>2</td>\n",
       "      <td>0</td>\n",
       "      <td>0.0</td>\n",
       "    </tr>\n",
       "    <tr>\n",
       "      <th>3</th>\n",
       "      <td>47462</td>\n",
       "      <td>satisfied</td>\n",
       "      <td>Female</td>\n",
       "      <td>Loyal Customer</td>\n",
       "      <td>60</td>\n",
       "      <td>Personal Travel</td>\n",
       "      <td>Eco</td>\n",
       "      <td>623</td>\n",
       "      <td>0</td>\n",
       "      <td>0</td>\n",
       "      <td>...</td>\n",
       "      <td>3</td>\n",
       "      <td>1</td>\n",
       "      <td>1</td>\n",
       "      <td>0</td>\n",
       "      <td>1</td>\n",
       "      <td>4</td>\n",
       "      <td>1</td>\n",
       "      <td>3</td>\n",
       "      <td>0</td>\n",
       "      <td>0.0</td>\n",
       "    </tr>\n",
       "    <tr>\n",
       "      <th>4</th>\n",
       "      <td>120011</td>\n",
       "      <td>satisfied</td>\n",
       "      <td>Female</td>\n",
       "      <td>Loyal Customer</td>\n",
       "      <td>70</td>\n",
       "      <td>Personal Travel</td>\n",
       "      <td>Eco</td>\n",
       "      <td>354</td>\n",
       "      <td>0</td>\n",
       "      <td>0</td>\n",
       "      <td>...</td>\n",
       "      <td>4</td>\n",
       "      <td>2</td>\n",
       "      <td>2</td>\n",
       "      <td>0</td>\n",
       "      <td>2</td>\n",
       "      <td>4</td>\n",
       "      <td>2</td>\n",
       "      <td>5</td>\n",
       "      <td>0</td>\n",
       "      <td>0.0</td>\n",
       "    </tr>\n",
       "  </tbody>\n",
       "</table>\n",
       "<p>5 rows × 24 columns</p>\n",
       "</div>"
      ],
      "text/plain": [
       "       id satisfaction_v2  Gender   Customer Type  Age   Type of Travel  \\\n",
       "0   11112       satisfied  Female  Loyal Customer   65  Personal Travel   \n",
       "1  110278       satisfied    Male  Loyal Customer   47  Personal Travel   \n",
       "2  103199       satisfied  Female  Loyal Customer   15  Personal Travel   \n",
       "3   47462       satisfied  Female  Loyal Customer   60  Personal Travel   \n",
       "4  120011       satisfied  Female  Loyal Customer   70  Personal Travel   \n",
       "\n",
       "      Class  Flight Distance  Seat comfort  Departure/Arrival time convenient  \\\n",
       "0       Eco              265             0                                  0   \n",
       "1  Business             2464             0                                  0   \n",
       "2       Eco             2138             0                                  0   \n",
       "3       Eco              623             0                                  0   \n",
       "4       Eco              354             0                                  0   \n",
       "\n",
       "   ...  Online support  Ease of Online booking  On-board service  \\\n",
       "0  ...               2                       3                 3   \n",
       "1  ...               2                       3                 4   \n",
       "2  ...               2                       2                 3   \n",
       "3  ...               3                       1                 1   \n",
       "4  ...               4                       2                 2   \n",
       "\n",
       "   Leg room service  Baggage handling  Checkin service  Cleanliness  \\\n",
       "0                 0                 3                5            3   \n",
       "1                 4                 4                2            3   \n",
       "2                 3                 4                4            4   \n",
       "3                 0                 1                4            1   \n",
       "4                 0                 2                4            2   \n",
       "\n",
       "   Online boarding  Departure Delay in Minutes  Arrival Delay in Minutes  \n",
       "0                2                           0                       0.0  \n",
       "1                2                         310                     305.0  \n",
       "2                2                           0                       0.0  \n",
       "3                3                           0                       0.0  \n",
       "4                5                           0                       0.0  \n",
       "\n",
       "[5 rows x 24 columns]"
      ]
     },
     "execution_count": 3,
     "metadata": {},
     "output_type": "execute_result"
    }
   ],
   "source": [
    "df=pd.read_excel('D:\\\\dsa\\\\satisfaction.xlsx')\n",
    "df.head()"
   ]
  },
  {
   "cell_type": "code",
   "execution_count": 4,
   "id": "ae29072a",
   "metadata": {},
   "outputs": [
    {
     "data": {
      "text/plain": [
       "(129880, 24)"
      ]
     },
     "execution_count": 4,
     "metadata": {},
     "output_type": "execute_result"
    }
   ],
   "source": [
    "df.shape"
   ]
  },
  {
   "cell_type": "code",
   "execution_count": 5,
   "id": "630cc6e5",
   "metadata": {},
   "outputs": [
    {
     "name": "stdout",
     "output_type": "stream",
     "text": [
      "<class 'pandas.core.frame.DataFrame'>\n",
      "RangeIndex: 129880 entries, 0 to 129879\n",
      "Data columns (total 24 columns):\n",
      " #   Column                             Non-Null Count   Dtype  \n",
      "---  ------                             --------------   -----  \n",
      " 0   id                                 129880 non-null  int64  \n",
      " 1   satisfaction_v2                    129880 non-null  object \n",
      " 2   Gender                             129880 non-null  object \n",
      " 3   Customer Type                      129880 non-null  object \n",
      " 4   Age                                129880 non-null  int64  \n",
      " 5   Type of Travel                     129880 non-null  object \n",
      " 6   Class                              129880 non-null  object \n",
      " 7   Flight Distance                    129880 non-null  int64  \n",
      " 8   Seat comfort                       129880 non-null  int64  \n",
      " 9   Departure/Arrival time convenient  129880 non-null  int64  \n",
      " 10  Food and drink                     129880 non-null  int64  \n",
      " 11  Gate location                      129880 non-null  int64  \n",
      " 12  Inflight wifi service              129880 non-null  int64  \n",
      " 13  Inflight entertainment             129880 non-null  int64  \n",
      " 14  Online support                     129880 non-null  int64  \n",
      " 15  Ease of Online booking             129880 non-null  int64  \n",
      " 16  On-board service                   129880 non-null  int64  \n",
      " 17  Leg room service                   129880 non-null  int64  \n",
      " 18  Baggage handling                   129880 non-null  int64  \n",
      " 19  Checkin service                    129880 non-null  int64  \n",
      " 20  Cleanliness                        129880 non-null  int64  \n",
      " 21  Online boarding                    129880 non-null  int64  \n",
      " 22  Departure Delay in Minutes         129880 non-null  int64  \n",
      " 23  Arrival Delay in Minutes           129487 non-null  float64\n",
      "dtypes: float64(1), int64(18), object(5)\n",
      "memory usage: 23.8+ MB\n"
     ]
    }
   ],
   "source": [
    "df.info()"
   ]
  },
  {
   "cell_type": "code",
   "execution_count": 6,
   "id": "a0b20455",
   "metadata": {},
   "outputs": [],
   "source": [
    "# Preprocessing"
   ]
  },
  {
   "cell_type": "code",
   "execution_count": 7,
   "id": "790127d4",
   "metadata": {},
   "outputs": [
    {
     "data": {
      "text/plain": [
       "id                                     0\n",
       "satisfaction_v2                        0\n",
       "Gender                                 0\n",
       "Customer Type                          0\n",
       "Age                                    0\n",
       "Type of Travel                         0\n",
       "Class                                  0\n",
       "Flight Distance                        0\n",
       "Seat comfort                           0\n",
       "Departure/Arrival time convenient      0\n",
       "Food and drink                         0\n",
       "Gate location                          0\n",
       "Inflight wifi service                  0\n",
       "Inflight entertainment                 0\n",
       "Online support                         0\n",
       "Ease of Online booking                 0\n",
       "On-board service                       0\n",
       "Leg room service                       0\n",
       "Baggage handling                       0\n",
       "Checkin service                        0\n",
       "Cleanliness                            0\n",
       "Online boarding                        0\n",
       "Departure Delay in Minutes             0\n",
       "Arrival Delay in Minutes             393\n",
       "dtype: int64"
      ]
     },
     "execution_count": 7,
     "metadata": {},
     "output_type": "execute_result"
    }
   ],
   "source": [
    "df.isna().sum()"
   ]
  },
  {
   "cell_type": "code",
   "execution_count": 8,
   "id": "473bd745",
   "metadata": {},
   "outputs": [
    {
     "data": {
      "text/plain": [
       "0.0"
      ]
     },
     "execution_count": 8,
     "metadata": {},
     "output_type": "execute_result"
    }
   ],
   "source": [
    "df['Arrival Delay in Minutes'].mode()[0]"
   ]
  },
  {
   "cell_type": "code",
   "execution_count": 9,
   "id": "7f7693b4",
   "metadata": {},
   "outputs": [],
   "source": [
    "df['Arrival Delay in Minutes'].fillna(df['Arrival Delay in Minutes'].mode()[0],inplace=True)"
   ]
  },
  {
   "cell_type": "code",
   "execution_count": 10,
   "id": "b7663918",
   "metadata": {},
   "outputs": [
    {
     "data": {
      "text/plain": [
       "id                                   0\n",
       "satisfaction_v2                      0\n",
       "Gender                               0\n",
       "Customer Type                        0\n",
       "Age                                  0\n",
       "Type of Travel                       0\n",
       "Class                                0\n",
       "Flight Distance                      0\n",
       "Seat comfort                         0\n",
       "Departure/Arrival time convenient    0\n",
       "Food and drink                       0\n",
       "Gate location                        0\n",
       "Inflight wifi service                0\n",
       "Inflight entertainment               0\n",
       "Online support                       0\n",
       "Ease of Online booking               0\n",
       "On-board service                     0\n",
       "Leg room service                     0\n",
       "Baggage handling                     0\n",
       "Checkin service                      0\n",
       "Cleanliness                          0\n",
       "Online boarding                      0\n",
       "Departure Delay in Minutes           0\n",
       "Arrival Delay in Minutes             0\n",
       "dtype: int64"
      ]
     },
     "execution_count": 10,
     "metadata": {},
     "output_type": "execute_result"
    }
   ],
   "source": [
    "df.isna().sum()"
   ]
  },
  {
   "cell_type": "code",
   "execution_count": 11,
   "id": "4bd404f7",
   "metadata": {},
   "outputs": [],
   "source": [
    "#Dealing with outliers"
   ]
  },
  {
   "cell_type": "code",
   "execution_count": 12,
   "id": "5c08a2fa",
   "metadata": {},
   "outputs": [
    {
     "data": {
      "text/plain": [
       "<AxesSubplot:>"
      ]
     },
     "execution_count": 12,
     "metadata": {},
     "output_type": "execute_result"
    },
    {
     "data": {
      "image/png": "[encoded data removed]",
      "text/plain": [
       "<Figure size 720x720 with 1 Axes>"
      ]
     },
     "metadata": {
      "needs_background": "light"
     },
     "output_type": "display_data"
    }
   ],
   "source": [
    "plt.figure(figsize=(10,10))\n",
    "df.boxplot(rot=90)"
   ]
  },
  {
   "cell_type": "code",
   "execution_count": 13,
   "id": "1a2146a8",
   "metadata": {},
   "outputs": [],
   "source": [
    "# Outliers are in .Flight Distance .Departure Delay in Minutes .Arrival Delay in Minutes"
   ]
  },
  {
   "cell_type": "code",
   "execution_count": 36,
   "id": "3c1406d2",
   "metadata": {},
   "outputs": [],
   "source": [
    "def outliers(x):\n",
    "    q1=np.percentile(x,25)\n",
    "    q3=np.percentile(x,75)\n",
    "    iqr=q3-q1\n",
    "    floor=q1-1.5*iqr\n",
    "    ceiling=q3+1.5*iqr\n",
    "    return floor,ceiling\n",
    "    "
   ]
  },
  {
   "cell_type": "code",
   "execution_count": 37,
   "id": "2053bd25",
   "metadata": {},
   "outputs": [
    {
     "name": "stdout",
     "output_type": "stream",
     "text": [
      "Outliers lowerbound= 0.0\n",
      "Outliers uppernound= 0.0\n"
     ]
    }
   ],
   "source": [
    "up_bound,l_bound=outliers(df['Departure Delay in Minutes'])\n",
    "print('Outliers lowerbound=',l_bound)\n",
    "print('Outliers uppernound=',up_bound)"
   ]
  },
  {
   "cell_type": "code",
   "execution_count": 31,
   "id": "66755536",
   "metadata": {},
   "outputs": [],
   "source": [
    "med=np.median(df['Departure Delay in Minutes'])\n",
    "for i in df['Departure Delay in Minutes']:\n",
    "    if ((i>up_bound) or (i<l_bound)):\n",
    "        df['Departure Delay in Minutes']=df['Departure Delay in Minutes'].replace(i,med)"
   ]
  },
  {
   "cell_type": "code",
   "execution_count": 17,
   "id": "5c3c1d14",
   "metadata": {},
   "outputs": [
    {
     "name": "stdout",
     "output_type": "stream",
     "text": [
      "Outliers lowerbound= 32.5\n",
      "Outliers uppernound= -19.5\n"
     ]
    }
   ],
   "source": [
    "up_bound,l_bound=outliers(df['Arrival Delay in Minutes'])\n",
    "print('Outliers lowerbound=',l_bound)\n",
    "print('Outliers uppernound=',up_bound)"
   ]
  },
  {
   "cell_type": "code",
   "execution_count": 32,
   "id": "2068f821",
   "metadata": {},
   "outputs": [],
   "source": [
    "med=np.median(df['Arrival Delay in Minutes'])\n",
    "for i in df['Arrival Delay in Minutes']:\n",
    "    if ((i>up_bound) or (i<l_bound)):\n",
    "        df['Arrival Delay in Minutes']=df['Arrival Delay in Minutes'].replace(i,med)"
   ]
  },
  {
   "cell_type": "code",
   "execution_count": 33,
   "id": "e9318c30",
   "metadata": {},
   "outputs": [
    {
     "data": {
      "text/plain": [
       "<AxesSubplot:>"
      ]
     },
     "execution_count": 33,
     "metadata": {},
     "output_type": "execute_result"
    },
    {
     "data": {
      "image/png": "[encoded data removed]",
      "text/plain": [
       "<Figure size 720x720 with 1 Axes>"
      ]
     },
     "metadata": {
      "needs_background": "light"
     },
     "output_type": "display_data"
    }
   ],
   "source": [
    "plt.figure(figsize=(10,10))\n",
    "df.boxplot(rot=90)"
   ]
  },
  {
   "cell_type": "code",
   "execution_count": 20,
   "id": "a426a0b9",
   "metadata": {},
   "outputs": [],
   "source": [
    "#  Encoding"
   ]
  },
  {
   "cell_type": "code",
   "execution_count": 21,
   "id": "afb5d078",
   "metadata": {},
   "outputs": [
    {
     "name": "stdout",
     "output_type": "stream",
     "text": [
      "<class 'pandas.core.frame.DataFrame'>\n",
      "RangeIndex: 129880 entries, 0 to 129879\n",
      "Data columns (total 24 columns):\n",
      " #   Column                             Non-Null Count   Dtype  \n",
      "---  ------                             --------------   -----  \n",
      " 0   id                                 129880 non-null  int64  \n",
      " 1   satisfaction_v2                    129880 non-null  object \n",
      " 2   Gender                             129880 non-null  object \n",
      " 3   Customer Type                      129880 non-null  object \n",
      " 4   Age                                129880 non-null  int64  \n",
      " 5   Type of Travel                     129880 non-null  object \n",
      " 6   Class                              129880 non-null  object \n",
      " 7   Flight Distance                    129880 non-null  int64  \n",
      " 8   Seat comfort                       129880 non-null  int64  \n",
      " 9   Departure/Arrival time convenient  129880 non-null  int64  \n",
      " 10  Food and drink                     129880 non-null  int64  \n",
      " 11  Gate location                      129880 non-null  int64  \n",
      " 12  Inflight wifi service              129880 non-null  int64  \n",
      " 13  Inflight entertainment             129880 non-null  int64  \n",
      " 14  Online support                     129880 non-null  int64  \n",
      " 15  Ease of Online booking             129880 non-null  int64  \n",
      " 16  On-board service                   129880 non-null  int64  \n",
      " 17  Leg room service                   129880 non-null  int64  \n",
      " 18  Baggage handling                   129880 non-null  int64  \n",
      " 19  Checkin service                    129880 non-null  int64  \n",
      " 20  Cleanliness                        129880 non-null  int64  \n",
      " 21  Online boarding                    129880 non-null  int64  \n",
      " 22  Departure Delay in Minutes         129880 non-null  int64  \n",
      " 23  Arrival Delay in Minutes           129880 non-null  float64\n",
      "dtypes: float64(1), int64(18), object(5)\n",
      "memory usage: 23.8+ MB\n"
     ]
    }
   ],
   "source": [
    "df.info()"
   ]
  },
  {
   "cell_type": "code",
   "execution_count": 22,
   "id": "12ea894e",
   "metadata": {},
   "outputs": [
    {
     "data": {
      "text/plain": [
       "satisfied                  71087\n",
       "neutral or dissatisfied    58793\n",
       "Name: satisfaction_v2, dtype: int64"
      ]
     },
     "execution_count": 22,
     "metadata": {},
     "output_type": "execute_result"
    }
   ],
   "source": [
    "df['satisfaction_v2'].value_counts()"
   ]
  },
  {
   "cell_type": "code",
   "execution_count": 23,
   "id": "32123e45",
   "metadata": {},
   "outputs": [],
   "source": [
    "cat_data=['satisfaction_v2','Gender','Customer Type','Type of Travel','Class']"
   ]
  },
  {
   "cell_type": "code",
   "execution_count": 38,
   "id": "b83224e0",
   "metadata": {},
   "outputs": [
    {
     "name": "stdout",
     "output_type": "stream",
     "text": [
      "satisfied                  71087\n",
      "neutral or dissatisfied    58793\n",
      "Name: satisfaction_v2, dtype: int64\n",
      "Female    65899\n",
      "Male      63981\n",
      "Name: Gender, dtype: int64\n",
      "Loyal Customer       106100\n",
      "disloyal Customer     23780\n",
      "Name: Customer Type, dtype: int64\n",
      "Business travel    89693\n",
      "Personal Travel    40187\n",
      "Name: Type of Travel, dtype: int64\n",
      "Business    62160\n",
      "Eco         58309\n",
      "Eco Plus     9411\n",
      "Name: Class, dtype: int64\n"
     ]
    }
   ],
   "source": [
    "for i in cat_data:\n",
    "    print(df[i].value_counts())"
   ]
  },
  {
   "cell_type": "code",
   "execution_count": 39,
   "id": "57a1cc0b",
   "metadata": {},
   "outputs": [],
   "source": [
    "#label encoding\n",
    "from sklearn.preprocessing import LabelEncoder\n",
    "label_encoder=LabelEncoder()\n",
    "label_encoder={}\n",
    "\n",
    "for i in cat_data:\n",
    "    label_encoder[i] = LabelEncoder()\n",
    "    df[i] = label_encoder[i].fit_transform(df[i]) "
   ]
  },
  {
   "cell_type": "code",
   "execution_count": 40,
   "id": "0927ed84",
   "metadata": {},
   "outputs": [
    {
     "data": {
      "text/html": [
       "<div>\n",
       "<style scoped>\n",
       "    .dataframe tbody tr th:only-of-type {\n",
       "        vertical-align: middle;\n",
       "    }\n",
       "\n",
       "    .dataframe tbody tr th {\n",
       "        vertical-align: top;\n",
       "    }\n",
       "\n",
       "    .dataframe thead th {\n",
       "        text-align: right;\n",
       "    }\n",
       "</style>\n",
       "<table border=\"1\" class=\"dataframe\">\n",
       "  <thead>\n",
       "    <tr style=\"text-align: right;\">\n",
       "      <th></th>\n",
       "      <th>id</th>\n",
       "      <th>satisfaction_v2</th>\n",
       "      <th>Gender</th>\n",
       "      <th>Customer Type</th>\n",
       "      <th>Age</th>\n",
       "      <th>Type of Travel</th>\n",
       "      <th>Class</th>\n",
       "      <th>Flight Distance</th>\n",
       "      <th>Seat comfort</th>\n",
       "      <th>Departure/Arrival time convenient</th>\n",
       "      <th>...</th>\n",
       "      <th>Online support</th>\n",
       "      <th>Ease of Online booking</th>\n",
       "      <th>On-board service</th>\n",
       "      <th>Leg room service</th>\n",
       "      <th>Baggage handling</th>\n",
       "      <th>Checkin service</th>\n",
       "      <th>Cleanliness</th>\n",
       "      <th>Online boarding</th>\n",
       "      <th>Departure Delay in Minutes</th>\n",
       "      <th>Arrival Delay in Minutes</th>\n",
       "    </tr>\n",
       "  </thead>\n",
       "  <tbody>\n",
       "    <tr>\n",
       "      <th>0</th>\n",
       "      <td>11112</td>\n",
       "      <td>1</td>\n",
       "      <td>0</td>\n",
       "      <td>0</td>\n",
       "      <td>65</td>\n",
       "      <td>1</td>\n",
       "      <td>1</td>\n",
       "      <td>265</td>\n",
       "      <td>0</td>\n",
       "      <td>0</td>\n",
       "      <td>...</td>\n",
       "      <td>2</td>\n",
       "      <td>3</td>\n",
       "      <td>3</td>\n",
       "      <td>0</td>\n",
       "      <td>3</td>\n",
       "      <td>5</td>\n",
       "      <td>3</td>\n",
       "      <td>2</td>\n",
       "      <td>0</td>\n",
       "      <td>0.0</td>\n",
       "    </tr>\n",
       "    <tr>\n",
       "      <th>1</th>\n",
       "      <td>110278</td>\n",
       "      <td>1</td>\n",
       "      <td>1</td>\n",
       "      <td>0</td>\n",
       "      <td>47</td>\n",
       "      <td>1</td>\n",
       "      <td>0</td>\n",
       "      <td>2464</td>\n",
       "      <td>0</td>\n",
       "      <td>0</td>\n",
       "      <td>...</td>\n",
       "      <td>2</td>\n",
       "      <td>3</td>\n",
       "      <td>4</td>\n",
       "      <td>4</td>\n",
       "      <td>4</td>\n",
       "      <td>2</td>\n",
       "      <td>3</td>\n",
       "      <td>2</td>\n",
       "      <td>0</td>\n",
       "      <td>0.0</td>\n",
       "    </tr>\n",
       "    <tr>\n",
       "      <th>2</th>\n",
       "      <td>103199</td>\n",
       "      <td>1</td>\n",
       "      <td>0</td>\n",
       "      <td>0</td>\n",
       "      <td>15</td>\n",
       "      <td>1</td>\n",
       "      <td>1</td>\n",
       "      <td>2138</td>\n",
       "      <td>0</td>\n",
       "      <td>0</td>\n",
       "      <td>...</td>\n",
       "      <td>2</td>\n",
       "      <td>2</td>\n",
       "      <td>3</td>\n",
       "      <td>3</td>\n",
       "      <td>4</td>\n",
       "      <td>4</td>\n",
       "      <td>4</td>\n",
       "      <td>2</td>\n",
       "      <td>0</td>\n",
       "      <td>0.0</td>\n",
       "    </tr>\n",
       "    <tr>\n",
       "      <th>3</th>\n",
       "      <td>47462</td>\n",
       "      <td>1</td>\n",
       "      <td>0</td>\n",
       "      <td>0</td>\n",
       "      <td>60</td>\n",
       "      <td>1</td>\n",
       "      <td>1</td>\n",
       "      <td>623</td>\n",
       "      <td>0</td>\n",
       "      <td>0</td>\n",
       "      <td>...</td>\n",
       "      <td>3</td>\n",
       "      <td>1</td>\n",
       "      <td>1</td>\n",
       "      <td>0</td>\n",
       "      <td>1</td>\n",
       "      <td>4</td>\n",
       "      <td>1</td>\n",
       "      <td>3</td>\n",
       "      <td>0</td>\n",
       "      <td>0.0</td>\n",
       "    </tr>\n",
       "    <tr>\n",
       "      <th>4</th>\n",
       "      <td>120011</td>\n",
       "      <td>1</td>\n",
       "      <td>0</td>\n",
       "      <td>0</td>\n",
       "      <td>70</td>\n",
       "      <td>1</td>\n",
       "      <td>1</td>\n",
       "      <td>354</td>\n",
       "      <td>0</td>\n",
       "      <td>0</td>\n",
       "      <td>...</td>\n",
       "      <td>4</td>\n",
       "      <td>2</td>\n",
       "      <td>2</td>\n",
       "      <td>0</td>\n",
       "      <td>2</td>\n",
       "      <td>4</td>\n",
       "      <td>2</td>\n",
       "      <td>5</td>\n",
       "      <td>0</td>\n",
       "      <td>0.0</td>\n",
       "    </tr>\n",
       "    <tr>\n",
       "      <th>5</th>\n",
       "      <td>100744</td>\n",
       "      <td>1</td>\n",
       "      <td>1</td>\n",
       "      <td>0</td>\n",
       "      <td>30</td>\n",
       "      <td>1</td>\n",
       "      <td>1</td>\n",
       "      <td>1894</td>\n",
       "      <td>0</td>\n",
       "      <td>0</td>\n",
       "      <td>...</td>\n",
       "      <td>2</td>\n",
       "      <td>2</td>\n",
       "      <td>5</td>\n",
       "      <td>4</td>\n",
       "      <td>5</td>\n",
       "      <td>5</td>\n",
       "      <td>4</td>\n",
       "      <td>2</td>\n",
       "      <td>0</td>\n",
       "      <td>0.0</td>\n",
       "    </tr>\n",
       "    <tr>\n",
       "      <th>6</th>\n",
       "      <td>32838</td>\n",
       "      <td>1</td>\n",
       "      <td>0</td>\n",
       "      <td>0</td>\n",
       "      <td>66</td>\n",
       "      <td>1</td>\n",
       "      <td>1</td>\n",
       "      <td>227</td>\n",
       "      <td>0</td>\n",
       "      <td>0</td>\n",
       "      <td>...</td>\n",
       "      <td>5</td>\n",
       "      <td>5</td>\n",
       "      <td>5</td>\n",
       "      <td>0</td>\n",
       "      <td>5</td>\n",
       "      <td>5</td>\n",
       "      <td>5</td>\n",
       "      <td>3</td>\n",
       "      <td>0</td>\n",
       "      <td>0.0</td>\n",
       "    </tr>\n",
       "    <tr>\n",
       "      <th>7</th>\n",
       "      <td>32864</td>\n",
       "      <td>1</td>\n",
       "      <td>1</td>\n",
       "      <td>0</td>\n",
       "      <td>10</td>\n",
       "      <td>1</td>\n",
       "      <td>1</td>\n",
       "      <td>1812</td>\n",
       "      <td>0</td>\n",
       "      <td>0</td>\n",
       "      <td>...</td>\n",
       "      <td>2</td>\n",
       "      <td>2</td>\n",
       "      <td>3</td>\n",
       "      <td>3</td>\n",
       "      <td>4</td>\n",
       "      <td>5</td>\n",
       "      <td>4</td>\n",
       "      <td>2</td>\n",
       "      <td>0</td>\n",
       "      <td>0.0</td>\n",
       "    </tr>\n",
       "    <tr>\n",
       "      <th>8</th>\n",
       "      <td>53786</td>\n",
       "      <td>1</td>\n",
       "      <td>0</td>\n",
       "      <td>0</td>\n",
       "      <td>56</td>\n",
       "      <td>1</td>\n",
       "      <td>0</td>\n",
       "      <td>73</td>\n",
       "      <td>0</td>\n",
       "      <td>0</td>\n",
       "      <td>...</td>\n",
       "      <td>5</td>\n",
       "      <td>4</td>\n",
       "      <td>4</td>\n",
       "      <td>0</td>\n",
       "      <td>1</td>\n",
       "      <td>5</td>\n",
       "      <td>4</td>\n",
       "      <td>4</td>\n",
       "      <td>0</td>\n",
       "      <td>0.0</td>\n",
       "    </tr>\n",
       "    <tr>\n",
       "      <th>9</th>\n",
       "      <td>7243</td>\n",
       "      <td>1</td>\n",
       "      <td>1</td>\n",
       "      <td>0</td>\n",
       "      <td>22</td>\n",
       "      <td>1</td>\n",
       "      <td>1</td>\n",
       "      <td>1556</td>\n",
       "      <td>0</td>\n",
       "      <td>0</td>\n",
       "      <td>...</td>\n",
       "      <td>2</td>\n",
       "      <td>2</td>\n",
       "      <td>2</td>\n",
       "      <td>4</td>\n",
       "      <td>5</td>\n",
       "      <td>3</td>\n",
       "      <td>4</td>\n",
       "      <td>2</td>\n",
       "      <td>0</td>\n",
       "      <td>0.0</td>\n",
       "    </tr>\n",
       "  </tbody>\n",
       "</table>\n",
       "<p>10 rows × 24 columns</p>\n",
       "</div>"
      ],
      "text/plain": [
       "       id  satisfaction_v2  Gender  Customer Type  Age  Type of Travel  Class  \\\n",
       "0   11112                1       0              0   65               1      1   \n",
       "1  110278                1       1              0   47               1      0   \n",
       "2  103199                1       0              0   15               1      1   \n",
       "3   47462                1       0              0   60               1      1   \n",
       "4  120011                1       0              0   70               1      1   \n",
       "5  100744                1       1              0   30               1      1   \n",
       "6   32838                1       0              0   66               1      1   \n",
       "7   32864                1       1              0   10               1      1   \n",
       "8   53786                1       0              0   56               1      0   \n",
       "9    7243                1       1              0   22               1      1   \n",
       "\n",
       "   Flight Distance  Seat comfort  Departure/Arrival time convenient  ...  \\\n",
       "0              265             0                                  0  ...   \n",
       "1             2464             0                                  0  ...   \n",
       "2             2138             0                                  0  ...   \n",
       "3              623             0                                  0  ...   \n",
       "4              354             0                                  0  ...   \n",
       "5             1894             0                                  0  ...   \n",
       "6              227             0                                  0  ...   \n",
       "7             1812             0                                  0  ...   \n",
       "8               73             0                                  0  ...   \n",
       "9             1556             0                                  0  ...   \n",
       "\n",
       "   Online support  Ease of Online booking  On-board service  Leg room service  \\\n",
       "0               2                       3                 3                 0   \n",
       "1               2                       3                 4                 4   \n",
       "2               2                       2                 3                 3   \n",
       "3               3                       1                 1                 0   \n",
       "4               4                       2                 2                 0   \n",
       "5               2                       2                 5                 4   \n",
       "6               5                       5                 5                 0   \n",
       "7               2                       2                 3                 3   \n",
       "8               5                       4                 4                 0   \n",
       "9               2                       2                 2                 4   \n",
       "\n",
       "   Baggage handling  Checkin service  Cleanliness  Online boarding  \\\n",
       "0                 3                5            3                2   \n",
       "1                 4                2            3                2   \n",
       "2                 4                4            4                2   \n",
       "3                 1                4            1                3   \n",
       "4                 2                4            2                5   \n",
       "5                 5                5            4                2   \n",
       "6                 5                5            5                3   \n",
       "7                 4                5            4                2   \n",
       "8                 1                5            4                4   \n",
       "9                 5                3            4                2   \n",
       "\n",
       "   Departure Delay in Minutes  Arrival Delay in Minutes  \n",
       "0                           0                       0.0  \n",
       "1                           0                       0.0  \n",
       "2                           0                       0.0  \n",
       "3                           0                       0.0  \n",
       "4                           0                       0.0  \n",
       "5                           0                       0.0  \n",
       "6                           0                       0.0  \n",
       "7                           0                       0.0  \n",
       "8                           0                       0.0  \n",
       "9                           0                       0.0  \n",
       "\n",
       "[10 rows x 24 columns]"
      ]
     },
     "execution_count": 40,
     "metadata": {},
     "output_type": "execute_result"
    }
   ],
   "source": [
    "df.head(10)"
   ]
  },
  {
   "cell_type": "code",
   "execution_count": 41,
   "id": "9009fc98",
   "metadata": {},
   "outputs": [],
   "source": [
    "#Feature Reduction"
   ]
  },
  {
   "cell_type": "code",
   "execution_count": 42,
   "id": "a14b473d",
   "metadata": {},
   "outputs": [
    {
     "data": {
      "text/plain": [
       "Index(['id', 'satisfaction_v2', 'Gender', 'Customer Type', 'Age',\n",
       "       'Type of Travel', 'Class', 'Flight Distance', 'Seat comfort',\n",
       "       'Departure/Arrival time convenient', 'Food and drink', 'Gate location',\n",
       "       'Inflight wifi service', 'Inflight entertainment', 'Online support',\n",
       "       'Ease of Online booking', 'On-board service', 'Leg room service',\n",
       "       'Baggage handling', 'Checkin service', 'Cleanliness', 'Online boarding',\n",
       "       'Departure Delay in Minutes', 'Arrival Delay in Minutes'],\n",
       "      dtype='object')"
      ]
     },
     "execution_count": 42,
     "metadata": {},
     "output_type": "execute_result"
    }
   ],
   "source": [
    "df.columns"
   ]
  },
  {
   "cell_type": "code",
   "execution_count": 43,
   "id": "5438c1af",
   "metadata": {},
   "outputs": [
    {
     "data": {
      "text/plain": [
       "<AxesSubplot:>"
      ]
     },
     "execution_count": 43,
     "metadata": {},
     "output_type": "execute_result"
    },
    {
     "data": {
      "image/png": "[encoded data removed]",
      "text/plain": [
       "<Figure size 1440x576 with 2 Axes>"
      ]
     },
     "metadata": {
      "needs_background": "light"
     },
     "output_type": "display_data"
    }
   ],
   "source": [
    "corrmatrix=df.corr()\n",
    "plt.subplots(figsize=(20,8))\n",
    "sns.heatmap(corrmatrix,vmin=0.01,vmax=1,annot=True,linewidth=0.2)"
   ]
  },
  {
   "cell_type": "code",
   "execution_count": 44,
   "id": "9f3cd3c2",
   "metadata": {},
   "outputs": [],
   "source": [
    "# Correlation between Departure Delay in minutes and Arrival Delay in minutes is so high then we can drop one of them also we can drop column id"
   ]
  },
  {
   "cell_type": "code",
   "execution_count": 45,
   "id": "a76f0725",
   "metadata": {},
   "outputs": [],
   "source": [
    "x=df.drop(['id','Arrival Delay in Minutes','satisfaction_v2'],axis=1)"
   ]
  },
  {
   "cell_type": "code",
   "execution_count": 46,
   "id": "d42d9424",
   "metadata": {},
   "outputs": [],
   "source": [
    "y=df['satisfaction_v2']"
   ]
  },
  {
   "cell_type": "code",
   "execution_count": 47,
   "id": "e930bebf",
   "metadata": {},
   "outputs": [
    {
     "data": {
      "text/plain": [
       "(129880, 21)"
      ]
     },
     "execution_count": 47,
     "metadata": {},
     "output_type": "execute_result"
    }
   ],
   "source": [
    "x.shape"
   ]
  },
  {
   "cell_type": "code",
   "execution_count": 48,
   "id": "75826fe1",
   "metadata": {},
   "outputs": [],
   "source": [
    "#Features Engineering"
   ]
  },
  {
   "cell_type": "code",
   "execution_count": 49,
   "id": "9a04d2c4",
   "metadata": {},
   "outputs": [
    {
     "data": {
      "text/plain": [
       "Index(['Gender', 'Customer Type', 'Age', 'Type of Travel', 'Class',\n",
       "       'Flight Distance', 'Seat comfort', 'Departure/Arrival time convenient',\n",
       "       'Food and drink', 'Gate location', 'Inflight wifi service',\n",
       "       'Inflight entertainment', 'Online support', 'Ease of Online booking',\n",
       "       'On-board service', 'Leg room service', 'Baggage handling',\n",
       "       'Checkin service', 'Cleanliness', 'Online boarding',\n",
       "       'Departure Delay in Minutes'],\n",
       "      dtype='object')"
      ]
     },
     "execution_count": 49,
     "metadata": {},
     "output_type": "execute_result"
    }
   ],
   "source": [
    "x.columns"
   ]
  },
  {
   "cell_type": "code",
   "execution_count": 50,
   "id": "4c96d89e",
   "metadata": {},
   "outputs": [],
   "source": [
    "x['Amenities']=df[['Food and drink','Seat comfort','Inflight entertainment','Cleanliness']].sum(axis=1)"
   ]
  },
  {
   "cell_type": "code",
   "execution_count": 51,
   "id": "d2c615d4",
   "metadata": {},
   "outputs": [],
   "source": [
    "x['Services']=df[['On-board service','Leg room service','Baggage handling','Checkin service','Inflight wifi service']].sum(axis=1)"
   ]
  },
  {
   "cell_type": "code",
   "execution_count": 52,
   "id": "50bc99fb",
   "metadata": {},
   "outputs": [],
   "source": [
    "x=x.drop(['Food and drink','Seat comfort','Inflight entertainment','Cleanliness','On-board service','Leg room service','Baggage handling','Checkin service','Inflight wifi service'],axis=1)\n"
   ]
  },
  {
   "cell_type": "code",
   "execution_count": 53,
   "id": "6862b4dd",
   "metadata": {},
   "outputs": [
    {
     "data": {
      "text/plain": [
       "(129880, 14)"
      ]
     },
     "execution_count": 53,
     "metadata": {},
     "output_type": "execute_result"
    }
   ],
   "source": [
    "x.shape"
   ]
  },
  {
   "cell_type": "code",
   "execution_count": 54,
   "id": "658c9ac2",
   "metadata": {},
   "outputs": [
    {
     "data": {
      "text/html": [
       "<div>\n",
       "<style scoped>\n",
       "    .dataframe tbody tr th:only-of-type {\n",
       "        vertical-align: middle;\n",
       "    }\n",
       "\n",
       "    .dataframe tbody tr th {\n",
       "        vertical-align: top;\n",
       "    }\n",
       "\n",
       "    .dataframe thead th {\n",
       "        text-align: right;\n",
       "    }\n",
       "</style>\n",
       "<table border=\"1\" class=\"dataframe\">\n",
       "  <thead>\n",
       "    <tr style=\"text-align: right;\">\n",
       "      <th></th>\n",
       "      <th>Gender</th>\n",
       "      <th>Customer Type</th>\n",
       "      <th>Age</th>\n",
       "      <th>Type of Travel</th>\n",
       "      <th>Class</th>\n",
       "      <th>Flight Distance</th>\n",
       "      <th>Departure/Arrival time convenient</th>\n",
       "      <th>Gate location</th>\n",
       "      <th>Online support</th>\n",
       "      <th>Ease of Online booking</th>\n",
       "      <th>Online boarding</th>\n",
       "      <th>Departure Delay in Minutes</th>\n",
       "      <th>Amenities</th>\n",
       "      <th>Services</th>\n",
       "    </tr>\n",
       "  </thead>\n",
       "  <tbody>\n",
       "    <tr>\n",
       "      <th>0</th>\n",
       "      <td>0</td>\n",
       "      <td>0</td>\n",
       "      <td>65</td>\n",
       "      <td>1</td>\n",
       "      <td>1</td>\n",
       "      <td>265</td>\n",
       "      <td>0</td>\n",
       "      <td>2</td>\n",
       "      <td>2</td>\n",
       "      <td>3</td>\n",
       "      <td>2</td>\n",
       "      <td>0</td>\n",
       "      <td>7</td>\n",
       "      <td>13</td>\n",
       "    </tr>\n",
       "    <tr>\n",
       "      <th>1</th>\n",
       "      <td>1</td>\n",
       "      <td>0</td>\n",
       "      <td>47</td>\n",
       "      <td>1</td>\n",
       "      <td>0</td>\n",
       "      <td>2464</td>\n",
       "      <td>0</td>\n",
       "      <td>3</td>\n",
       "      <td>2</td>\n",
       "      <td>3</td>\n",
       "      <td>2</td>\n",
       "      <td>0</td>\n",
       "      <td>5</td>\n",
       "      <td>14</td>\n",
       "    </tr>\n",
       "    <tr>\n",
       "      <th>2</th>\n",
       "      <td>0</td>\n",
       "      <td>0</td>\n",
       "      <td>15</td>\n",
       "      <td>1</td>\n",
       "      <td>1</td>\n",
       "      <td>2138</td>\n",
       "      <td>0</td>\n",
       "      <td>3</td>\n",
       "      <td>2</td>\n",
       "      <td>2</td>\n",
       "      <td>2</td>\n",
       "      <td>0</td>\n",
       "      <td>4</td>\n",
       "      <td>16</td>\n",
       "    </tr>\n",
       "    <tr>\n",
       "      <th>3</th>\n",
       "      <td>0</td>\n",
       "      <td>0</td>\n",
       "      <td>60</td>\n",
       "      <td>1</td>\n",
       "      <td>1</td>\n",
       "      <td>623</td>\n",
       "      <td>0</td>\n",
       "      <td>3</td>\n",
       "      <td>3</td>\n",
       "      <td>1</td>\n",
       "      <td>3</td>\n",
       "      <td>0</td>\n",
       "      <td>5</td>\n",
       "      <td>9</td>\n",
       "    </tr>\n",
       "    <tr>\n",
       "      <th>4</th>\n",
       "      <td>0</td>\n",
       "      <td>0</td>\n",
       "      <td>70</td>\n",
       "      <td>1</td>\n",
       "      <td>1</td>\n",
       "      <td>354</td>\n",
       "      <td>0</td>\n",
       "      <td>3</td>\n",
       "      <td>4</td>\n",
       "      <td>2</td>\n",
       "      <td>5</td>\n",
       "      <td>0</td>\n",
       "      <td>5</td>\n",
       "      <td>12</td>\n",
       "    </tr>\n",
       "    <tr>\n",
       "      <th>5</th>\n",
       "      <td>1</td>\n",
       "      <td>0</td>\n",
       "      <td>30</td>\n",
       "      <td>1</td>\n",
       "      <td>1</td>\n",
       "      <td>1894</td>\n",
       "      <td>0</td>\n",
       "      <td>3</td>\n",
       "      <td>2</td>\n",
       "      <td>2</td>\n",
       "      <td>2</td>\n",
       "      <td>0</td>\n",
       "      <td>4</td>\n",
       "      <td>21</td>\n",
       "    </tr>\n",
       "    <tr>\n",
       "      <th>6</th>\n",
       "      <td>0</td>\n",
       "      <td>0</td>\n",
       "      <td>66</td>\n",
       "      <td>1</td>\n",
       "      <td>1</td>\n",
       "      <td>227</td>\n",
       "      <td>0</td>\n",
       "      <td>3</td>\n",
       "      <td>5</td>\n",
       "      <td>5</td>\n",
       "      <td>3</td>\n",
       "      <td>0</td>\n",
       "      <td>10</td>\n",
       "      <td>17</td>\n",
       "    </tr>\n",
       "    <tr>\n",
       "      <th>7</th>\n",
       "      <td>1</td>\n",
       "      <td>0</td>\n",
       "      <td>10</td>\n",
       "      <td>1</td>\n",
       "      <td>1</td>\n",
       "      <td>1812</td>\n",
       "      <td>0</td>\n",
       "      <td>3</td>\n",
       "      <td>2</td>\n",
       "      <td>2</td>\n",
       "      <td>2</td>\n",
       "      <td>0</td>\n",
       "      <td>4</td>\n",
       "      <td>17</td>\n",
       "    </tr>\n",
       "    <tr>\n",
       "      <th>8</th>\n",
       "      <td>0</td>\n",
       "      <td>0</td>\n",
       "      <td>56</td>\n",
       "      <td>1</td>\n",
       "      <td>0</td>\n",
       "      <td>73</td>\n",
       "      <td>0</td>\n",
       "      <td>3</td>\n",
       "      <td>5</td>\n",
       "      <td>4</td>\n",
       "      <td>4</td>\n",
       "      <td>0</td>\n",
       "      <td>7</td>\n",
       "      <td>15</td>\n",
       "    </tr>\n",
       "    <tr>\n",
       "      <th>9</th>\n",
       "      <td>1</td>\n",
       "      <td>0</td>\n",
       "      <td>22</td>\n",
       "      <td>1</td>\n",
       "      <td>1</td>\n",
       "      <td>1556</td>\n",
       "      <td>0</td>\n",
       "      <td>3</td>\n",
       "      <td>2</td>\n",
       "      <td>2</td>\n",
       "      <td>2</td>\n",
       "      <td>0</td>\n",
       "      <td>4</td>\n",
       "      <td>16</td>\n",
       "    </tr>\n",
       "  </tbody>\n",
       "</table>\n",
       "</div>"
      ],
      "text/plain": [
       "   Gender  Customer Type  Age  Type of Travel  Class  Flight Distance  \\\n",
       "0       0              0   65               1      1              265   \n",
       "1       1              0   47               1      0             2464   \n",
       "2       0              0   15               1      1             2138   \n",
       "3       0              0   60               1      1              623   \n",
       "4       0              0   70               1      1              354   \n",
       "5       1              0   30               1      1             1894   \n",
       "6       0              0   66               1      1              227   \n",
       "7       1              0   10               1      1             1812   \n",
       "8       0              0   56               1      0               73   \n",
       "9       1              0   22               1      1             1556   \n",
       "\n",
       "   Departure/Arrival time convenient  Gate location  Online support  \\\n",
       "0                                  0              2               2   \n",
       "1                                  0              3               2   \n",
       "2                                  0              3               2   \n",
       "3                                  0              3               3   \n",
       "4                                  0              3               4   \n",
       "5                                  0              3               2   \n",
       "6                                  0              3               5   \n",
       "7                                  0              3               2   \n",
       "8                                  0              3               5   \n",
       "9                                  0              3               2   \n",
       "\n",
       "   Ease of Online booking  Online boarding  Departure Delay in Minutes  \\\n",
       "0                       3                2                           0   \n",
       "1                       3                2                           0   \n",
       "2                       2                2                           0   \n",
       "3                       1                3                           0   \n",
       "4                       2                5                           0   \n",
       "5                       2                2                           0   \n",
       "6                       5                3                           0   \n",
       "7                       2                2                           0   \n",
       "8                       4                4                           0   \n",
       "9                       2                2                           0   \n",
       "\n",
       "   Amenities  Services  \n",
       "0          7        13  \n",
       "1          5        14  \n",
       "2          4        16  \n",
       "3          5         9  \n",
       "4          5        12  \n",
       "5          4        21  \n",
       "6         10        17  \n",
       "7          4        17  \n",
       "8          7        15  \n",
       "9          4        16  "
      ]
     },
     "execution_count": 54,
     "metadata": {},
     "output_type": "execute_result"
    }
   ],
   "source": [
    "x.head(10) "
   ]
  },
  {
   "cell_type": "code",
   "execution_count": 55,
   "id": "66884f5f",
   "metadata": {},
   "outputs": [],
   "source": [
    "#splitting the data"
   ]
  },
  {
   "cell_type": "code",
   "execution_count": 56,
   "id": "f904f719",
   "metadata": {},
   "outputs": [],
   "source": [
    "from sklearn.model_selection import train_test_split\n",
    "x_train,x_test,y_train,y_test=train_test_split(x,y,random_state=42,test_size=0.25)"
   ]
  },
  {
   "cell_type": "code",
   "execution_count": 57,
   "id": "a34d9044",
   "metadata": {},
   "outputs": [
    {
     "data": {
      "text/plain": [
       "(97410, 14)"
      ]
     },
     "execution_count": 57,
     "metadata": {},
     "output_type": "execute_result"
    }
   ],
   "source": [
    "x_train.shape"
   ]
  },
  {
   "cell_type": "code",
   "execution_count": 58,
   "id": "6a7d2ca0",
   "metadata": {},
   "outputs": [
    {
     "data": {
      "text/plain": [
       "(97410,)"
      ]
     },
     "execution_count": 58,
     "metadata": {},
     "output_type": "execute_result"
    }
   ],
   "source": [
    "y_train.shape"
   ]
  },
  {
   "cell_type": "code",
   "execution_count": 59,
   "id": "fee981fd",
   "metadata": {},
   "outputs": [
    {
     "data": {
      "text/plain": [
       "(32470, 14)"
      ]
     },
     "execution_count": 59,
     "metadata": {},
     "output_type": "execute_result"
    }
   ],
   "source": [
    "x_test.shape"
   ]
  },
  {
   "cell_type": "code",
   "execution_count": 60,
   "id": "10794682",
   "metadata": {},
   "outputs": [
    {
     "data": {
      "text/plain": [
       "(32470,)"
      ]
     },
     "execution_count": 60,
     "metadata": {},
     "output_type": "execute_result"
    }
   ],
   "source": [
    "y_test.shape"
   ]
  },
  {
   "cell_type": "code",
   "execution_count": null,
   "id": "7d6220c9",
   "metadata": {},
   "outputs": [],
   "source": [
    "#Scaling\n",
    "from sklearn.preprocessing import  StandardScaler\n",
    "scale=StandardScaler()\n",
    "x_train=scale.fit_transform(x_train)\n",
    "y_test=scale.fit_transform(x_test)"
   ]
  },
  {
   "cell_type": "code",
   "execution_count": null,
   "id": "cde43865",
   "metadata": {},
   "outputs": [],
   "source": [
    "#EDA"
   ]
  },
  {
   "cell_type": "code",
   "execution_count": null,
   "id": "27207bac",
   "metadata": {},
   "outputs": [],
   "source": [
    "df.describe()"
   ]
  },
  {
   "cell_type": "code",
   "execution_count": null,
   "id": "ad6a1289",
   "metadata": {},
   "outputs": [],
   "source": [
    "plt.figure(figsize=(8,6))\n",
    "plt.subplot(1,2,1)\n",
    "sns.countplot(x=df['satisfaction_v2'])\n",
    "\n",
    "plt.subplot(1,2,2)\n",
    "count_test=df['satisfaction_v2'].value_counts()\n",
    "labels=df['satisfaction_v2'].value_counts().index\n",
    "plt.pie(count_test,labels=labels,shadow=True,explode=(0,0.08),autopct='%1.1f%%')\n",
    "plt.legend(labels)\n",
    "plt.title('satisfaction')\n",
    "plt.show()"
   ]
  },
  {
   "cell_type": "code",
   "execution_count": null,
   "id": "ddef67dd",
   "metadata": {},
   "outputs": [],
   "source": [
    "df_sat=df.loc[df['satisfaction_v2']==0]\n",
    "df_notsat=df.loc[df['satisfaction_v2']==1]"
   ]
  },
  {
   "cell_type": "code",
   "execution_count": null,
   "id": "955ad5dc",
   "metadata": {},
   "outputs": [],
   "source": [
    "plt.plot(df_sat['Online boarding'],np.zeros_like(df_sat['Online boarding']))\n",
    "plt.plot(df_notsat['Online boarding'],np.zeros_like(df_notsat['Online boarding']))\n",
    "plt.xlabel('Online boarding')\n",
    "plt.show()"
   ]
  },
  {
   "cell_type": "code",
   "execution_count": null,
   "id": "a2c3ac0c",
   "metadata": {},
   "outputs": [],
   "source": [
    "for i in df.columns:\n",
    "    if len(df[i].unique())<=6 and i !='satisfaction_v2':\n",
    "        plt.figure (figsize=(8,5))\n",
    "        plt.subplot(1,2,1)\n",
    "        sns.countplot(x=df[i],data=df)\n",
    "        \n",
    "        plt.subplot(1,2,2)\n",
    "        sns.countplot(x=df[i],hue='satisfaction_v2',data=df)\n",
    "        plt.show()"
   ]
  },
  {
   "cell_type": "code",
   "execution_count": null,
   "id": "0d0114d7",
   "metadata": {},
   "outputs": [],
   "source": [
    "sns.displot(data=df,x='Age',kind='kde')"
   ]
  },
  {
   "cell_type": "code",
   "execution_count": null,
   "id": "6672a565",
   "metadata": {},
   "outputs": [],
   "source": [
    "# The Most age range from 25 to 35 and from 40 to 60 This means to focus more on the needs of them"
   ]
  },
  {
   "cell_type": "code",
   "execution_count": null,
   "id": "deafa229",
   "metadata": {},
   "outputs": [],
   "source": [
    "sns.histplot(x='Flight Distance',hue='satisfaction_v2',data=df,element='poly')"
   ]
  },
  {
   "cell_type": "code",
   "execution_count": null,
   "id": "9e1f5ac3",
   "metadata": {},
   "outputs": [],
   "source": [
    "df.columns"
   ]
  },
  {
   "cell_type": "code",
   "execution_count": null,
   "id": "5224c6a2",
   "metadata": {},
   "outputs": [],
   "source": [
    "g_data=df.groupby('Class')['Departure/Arrival time convenient','Food and drink','Gate location',\n",
    "       'Inflight wifi service', 'Inflight entertainment',\n",
    "       'Ease of Online booking', 'Leg room service', 'Checkin service', 'Cleanliness'].agg(['mean'])"
   ]
  },
  {
   "cell_type": "code",
   "execution_count": null,
   "id": "82c6e6f4",
   "metadata": {},
   "outputs": [],
   "source": [
    "g_data.T.plot(kind='bar')"
   ]
  },
  {
   "cell_type": "code",
   "execution_count": null,
   "id": "7bcef478",
   "metadata": {},
   "outputs": [],
   "source": [
    "g_data1=df.groupby('Type of Travel')['Departure/Arrival time convenient','Food and drink','Gate location',\n",
    "       'Inflight wifi service', 'Inflight entertainment',\n",
    "       'Ease of Online booking', 'Leg room service', 'Checkin service', 'Cleanliness'].agg(['mean'])"
   ]
  },
  {
   "cell_type": "code",
   "execution_count": null,
   "id": "b152c645",
   "metadata": {},
   "outputs": [],
   "source": [
    "g_data1.T.plot(kind='bar')"
   ]
  },
  {
   "cell_type": "code",
   "execution_count": null,
   "id": "6a528aaf",
   "metadata": {},
   "outputs": [],
   "source": [
    "g_data2=df.groupby('Customer Type')['Departure/Arrival time convenient','Food and drink','Gate location',\n",
    "       'Inflight wifi service', 'Inflight entertainment',\n",
    "       'Ease of Online booking', 'Leg room service', 'Checkin service', 'Cleanliness'].agg(['mean'])"
   ]
  },
  {
   "cell_type": "code",
   "execution_count": null,
   "id": "92f417ab",
   "metadata": {},
   "outputs": [],
   "source": [
    "g_data2.T.plot(kind='bar')"
   ]
  },
  {
   "cell_type": "code",
   "execution_count": null,
   "id": "0275b17b",
   "metadata": {},
   "outputs": [],
   "source": [
    "#Modeling"
   ]
  },
  {
   "cell_type": "code",
   "execution_count": null,
   "id": "c2ddb395",
   "metadata": {},
   "outputs": [],
   "source": [
    "pip install xgboost"
   ]
  },
  {
   "cell_type": "code",
   "execution_count": null,
   "id": "79685490",
   "metadata": {},
   "outputs": [],
   "source": [
    "from sklearn.neighbors import KNeighborsClassifier\n",
    "from sklearn.tree import DecisionTreeClassifier\n",
    "from sklearn.ensemble import RandomForestClassifier\n",
    "from xgboost import XGBClassifier\n",
    "from sklearn.naive_bayes import GaussianNB\n",
    "from sklearn.linear_model import LogisticRegression\n",
    "from sklearn.svm import SVC"
   ]
  },
  {
   "cell_type": "code",
   "execution_count": null,
   "id": "478bc4e9",
   "metadata": {},
   "outputs": [],
   "source": [
    "from sklearn.metrics import accuracy_score\n",
    "from sklearn.metrics import precision_score\n",
    "from sklearn.metrics import recall_score\n",
    "from sklearn.metrics import  f1_score\n",
    "from sklearn.metrics import confusion_matrix,classification_report,plot_confusion_matrix,ConfusionMatrixDisplay"
   ]
  },
  {
   "cell_type": "code",
   "execution_count": null,
   "id": "7861e4de",
   "metadata": {},
   "outputs": [],
   "source": [
    "def classification_task( model,x_train, y_train ,x_test,y_test, predic,model_name):\n",
    " \n",
    "    table=pd.DataFrame({'Train_Score':model.score(x_train_scaled,y_train),\"Test_Score\":model.score(x_test_scaled,y_test),\n",
    "                       \"Precision_Score\":precision_score(y_test,predic),\"Recall_Score\":recall_score(y_test,predic),\n",
    "                       \"F1_Score\":f1_score(y_test,predic) , \"accuracy\":accuracy_score(y_test,predic)}, index=[model_name])\n",
    "    return table"
   ]
  },
  {
   "cell_type": "code",
   "execution_count": null,
   "id": "b99a1c87",
   "metadata": {},
   "outputs": [],
   "source": [
    "#1.Support Vector Machine"
   ]
  },
  {
   "cell_type": "code",
   "execution_count": null,
   "id": "59f68dff",
   "metadata": {},
   "outputs": [],
   "source": [
    "#Fittting kernel svm to the training set\n",
    "svc=SVC(kernel='linear',random_state=0)\n",
    "svc.fit(x_train,y_train)"
   ]
  },
  {
   "cell_type": "code",
   "execution_count": null,
   "id": "3053dba2",
   "metadata": {},
   "outputs": [],
   "source": [
    "#predicting the Test set results\n",
    "pred1=svc.predict(x_test)"
   ]
  },
  {
   "cell_type": "code",
   "execution_count": null,
   "id": "9ca2197a",
   "metadata": {},
   "outputs": [],
   "source": [
    "Eval_svc= classification_task(svc,x_train, y_train ,x_test ,y_test,pred1,\"SVC\" )\n",
    "Eval_svc\n"
   ]
  },
  {
   "cell_type": "code",
   "execution_count": null,
   "id": "ec4eb556",
   "metadata": {},
   "outputs": [],
   "source": [
    "# KNN"
   ]
  },
  {
   "cell_type": "code",
   "execution_count": null,
   "id": "eff28a41",
   "metadata": {},
   "outputs": [],
   "source": [
    "# Train KNN model on the scaled data \n",
    "KNN = KNeighborsClassifier()\n"
   ]
  },
  {
   "cell_type": "code",
   "execution_count": null,
   "id": "2795c8c9",
   "metadata": {},
   "outputs": [],
   "source": [
    "# Fit the model\n",
    "KNN.fit(x_train,y_train)\n"
   ]
  },
  {
   "cell_type": "code",
   "execution_count": null,
   "id": "5e467937",
   "metadata": {},
   "outputs": [],
   "source": [
    "#predict x_test_scaled\n",
    "pred2 = KNN.predict(x_test)"
   ]
  },
  {
   "cell_type": "code",
   "execution_count": null,
   "id": "75d5caf3",
   "metadata": {},
   "outputs": [],
   "source": [
    "Eval_KNN= classification_task(KNN,x_train, y_train ,x_test ,y_test,pred2,\"KNN\" )\n",
    "Eval_KNN"
   ]
  },
  {
   "cell_type": "code",
   "execution_count": null,
   "id": "d69af59f",
   "metadata": {},
   "outputs": [],
   "source": [
    "# Decision Tree"
   ]
  },
  {
   "cell_type": "code",
   "execution_count": null,
   "id": "cb955771",
   "metadata": {},
   "outputs": [],
   "source": [
    "# Train decision tree model on the scaled data\n",
    "Decision_Tree = DecisionTreeClassifier() \n",
    "# Fit the model\n",
    "Decision_Tree.fit(x_train,y_train)\n",
    "#predict x_test_scaled\n",
    "pred3 = Decision_Tree.predict(X_test)"
   ]
  },
  {
   "cell_type": "code",
   "execution_count": null,
   "id": "03276632",
   "metadata": {},
   "outputs": [],
   "source": [
    "Eval_dec = classification_task(Decision_Tree,x_train, y_train ,x_test ,y_test,pred3,\"Decision Tree\" )\n",
    "Eval_dec\n"
   ]
  },
  {
   "cell_type": "code",
   "execution_count": null,
   "id": "ff2260f5",
   "metadata": {},
   "outputs": [],
   "source": [
    "# Random Forest\n",
    "\n"
   ]
  },
  {
   "cell_type": "code",
   "execution_count": null,
   "id": "67158e15",
   "metadata": {},
   "outputs": [],
   "source": [
    "Random_Forest= RandomForestClassifier()\n",
    "# Fit the model\n",
    "Random_Forest.fit(x_train,y_train)\n",
    "#predict x_test_scaled\n",
    "pred4 = Random_Forest.predict(x_test)"
   ]
  },
  {
   "cell_type": "code",
   "execution_count": null,
   "id": "e1e40bc7",
   "metadata": {},
   "outputs": [],
   "source": [
    "Eval_fores= classification_task(Random_Forest,x_train, y_train ,x_test ,y_test,pred4,\"Random Forest\" )\n",
    "Eval_fores"
   ]
  },
  {
   "cell_type": "code",
   "execution_count": null,
   "id": "93fe8af8",
   "metadata": {},
   "outputs": [],
   "source": [
    "#XGB boost"
   ]
  },
  {
   "cell_type": "code",
   "execution_count": null,
   "id": "6c93681d",
   "metadata": {},
   "outputs": [],
   "source": [
    "# Train XGB boost model on the scaled data\n",
    "xgb = XGBClassifier()\n",
    "# Fit the model\n",
    "xgb.fit(x_train,y_train)\n",
    "#predict x_test_scaled\n",
    "pred = xgb.predict(x_test)"
   ]
  },
  {
   "cell_type": "code",
   "execution_count": null,
   "id": "88c10c19",
   "metadata": {},
   "outputs": [],
   "source": [
    "Eval_XGB= classification_task(xgb,x_train, y_train ,x_test ,y_test,pred5,\"XGB\" )\n",
    "Eval_XGB"
   ]
  },
  {
   "cell_type": "code",
   "execution_count": null,
   "id": "f6719d78",
   "metadata": {},
   "outputs": [],
   "source": [
    "# Naive bayes"
   ]
  },
  {
   "cell_type": "code",
   "execution_count": null,
   "id": "3ad3759c",
   "metadata": {},
   "outputs": [],
   "source": [
    "# Train naive bayes boost model on the scaled data\n",
    "clf = GaussianNB()\n",
    "# Fit the model\n",
    "clf.fit(x_train,y_train)\n",
    "#predict x_test_scaled\n",
    "pred6 = clf.predict(x_test)"
   ]
  },
  {
   "cell_type": "code",
   "execution_count": null,
   "id": "cfa114d3",
   "metadata": {},
   "outputs": [],
   "source": [
    "Eval_clf= classification_task(clf,x_train, y_train ,x_test ,y_test,pred6,\"Naive Bayes\" )\n",
    "Eval_clf"
   ]
  },
  {
   "cell_type": "code",
   "execution_count": null,
   "id": "d818049a",
   "metadata": {},
   "outputs": [],
   "source": [
    "#logisticRegression"
   ]
  },
  {
   "cell_type": "code",
   "execution_count": null,
   "id": "b27e8608",
   "metadata": {},
   "outputs": [],
   "source": [
    "lr = LogisticRegression()\n",
    "# Fit the model\n",
    "lr.fit(x_train, y_train)\n",
    "#predict x_test_scaled\n",
    "pred7 = lr.predict(x_test)\n",
    "#calling the score function"
   ]
  },
  {
   "cell_type": "code",
   "execution_count": null,
   "id": "c405b38d",
   "metadata": {},
   "outputs": [],
   "source": [
    "Eval_lr= classification_task(lr,x_train, y_train ,x_test ,y_test,pred7,\"logisitc regression\" )\n",
    "Eval_lr"
   ]
  },
  {
   "cell_type": "code",
   "execution_count": null,
   "id": "8b406a83",
   "metadata": {},
   "outputs": [],
   "source": [
    "import sklearn.ensemble RandomForestClassifier\n",
    "from sklearn.linear_model import LogisticRegression\n",
    "from sklearn.naive_bayes import GaussianNB\n",
    "from sklearn.naive_bayes import MultinomialNB\n",
    "from sklearn.tree import DecisionTreeClassifier\n",
    "model_params = {\n",
    "    'svm': {\n",
    "        'model': svm.SVC(gamma='auto'),\n",
    "        'params' : {\n",
    "            'C': [1,10,100,100],\n",
    "            'kernel': ['rbf','linear']\n",
    "        }  \n",
    "    },\n",
    "    'random_forest': {\n",
    "        'model': RandomForestClassifier(),\n",
    "        'params' : {\n",
    "            'n_estimators': [1,5,10]\n",
    "        }\n",
    "    },\n",
    "    'logistic_regression' : {\n",
    "        'model': LogisticRegression(),\n",
    "        'params': {\n",
    "            'penalty':['l1','l2','elasticnet','none'],\n",
    "            'C': np.logspace(-4,4,20),\n",
    "            'solver':['lbfgs','newton-cg','liblinear','sag','sags'],\n",
    "            'max_iter':[1,10,100,1000]\n",
    "        }\n",
    "    },\n",
    "    'naive_bayes_gaussian': {\n",
    "        'model': GaussianNB(),\n",
    "        'params': {}\n",
    "    },\n",
    "    \n",
    "    'decision_tree': {\n",
    "        'model': DecisionTreeClassifier(),\n",
    "        'params': {\n",
    "            'criterion': ['gini','entropy'],\n",
    "            \n",
    "        }\n",
    "    }     \n",
    "}\n"
   ]
  },
  {
   "cell_type": "code",
   "execution_count": null,
   "id": "162c6810",
   "metadata": {},
   "outputs": [],
   "source": [
    "from sklearn.model_selection import GridSearchCV\n",
    "import pandas as pd\n",
    "scores = []\n",
    "\n",
    "for model_name, mp in model_params.items():\n",
    "    clf =  GridSearchCV(mp['model'], mp['params'], cv=5, return_train_score=False)\n",
    "    clf.fit(digits.data, digits.target)\n",
    "    scores.append({\n",
    "        'model': model_name,\n",
    "        'best_score': clf.best_score_,\n",
    "        'best_params': clf.best_params_\n",
    "    })\n",
    "    \n",
    "df_table= pd.DataFrame(scores,columns=['model','best_score','best_params'])\n",
    "df_table"
   ]
  },
  {
   "cell_type": "code",
   "execution_count": null,
   "id": "decdc079",
   "metadata": {},
   "outputs": [],
   "source": []
  },
  {
   "cell_type": "code",
   "execution_count": null,
   "id": "a09da42e",
   "metadata": {},
   "outputs": [],
   "source": []
  },
  {
   "cell_type": "code",
   "execution_count": null,
   "id": "9240eb73",
   "metadata": {},
   "outputs": [],
   "source": []
  },
  {
   "cell_type": "code",
   "execution_count": null,
   "id": "bbab9af4",
   "metadata": {},
   "outputs": [],
   "source": []
  },
  {
   "cell_type": "code",
   "execution_count": null,
   "id": "78c1fa3f",
   "metadata": {},
   "outputs": [],
   "source": []
  }
 ],
 "metadata": {
  "kernelspec": {
   "display_name": "Python 3 (ipykernel)",
   "language": "python",
   "name": "python3"
  },
  "language_info": {
   "codemirror_mode": {
    "name": "ipython",
    "version": 3
   },
   "file_extension": ".py",
   "mimetype": "text/x-python",
   "name": "python",
   "nbconvert_exporter": "python",
   "pygments_lexer": "ipython3",
   "version": "3.9.7"
  }
 },
 "nbformat": 4,
 "nbformat_minor": 5
}
